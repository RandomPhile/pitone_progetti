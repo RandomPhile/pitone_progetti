{
 "cells": [
  {
   "cell_type": "markdown",
   "metadata": {},
   "source": [
    "### Michelson Interference fringes"
   ]
  },
  {
   "cell_type": "code",
   "execution_count": 5,
   "metadata": {},
   "outputs": [
    {
     "ename": "ModuleNotFoundError",
     "evalue": "No module named 'pandas'",
     "output_type": "error",
     "traceback": [
      "\u001b[0;31m---------------------------------------------------------------------------\u001b[0m",
      "\u001b[0;31mModuleNotFoundError\u001b[0m                       Traceback (most recent call last)",
      "\u001b[0;32m<ipython-input-5-0d6d356effee>\u001b[0m in \u001b[0;36m<module>\u001b[0;34m\u001b[0m\n\u001b[1;32m      4\u001b[0m \u001b[0;32mfrom\u001b[0m \u001b[0mIPython\u001b[0m\u001b[0;34m.\u001b[0m\u001b[0mdisplay\u001b[0m \u001b[0;32mimport\u001b[0m \u001b[0mdisplay\u001b[0m\u001b[0;34m\u001b[0m\u001b[0;34m\u001b[0m\u001b[0m\n\u001b[1;32m      5\u001b[0m \u001b[0;32mfrom\u001b[0m \u001b[0mcopy\u001b[0m \u001b[0;32mimport\u001b[0m \u001b[0mdeepcopy\u001b[0m\u001b[0;34m\u001b[0m\u001b[0;34m\u001b[0m\u001b[0m\n\u001b[0;32m----> 6\u001b[0;31m \u001b[0;32mfrom\u001b[0m \u001b[0mpandas\u001b[0m \u001b[0;32mimport\u001b[0m \u001b[0mDataFrame\u001b[0m\u001b[0;34m\u001b[0m\u001b[0;34m\u001b[0m\u001b[0m\n\u001b[0m\u001b[1;32m      7\u001b[0m \u001b[0;32mfrom\u001b[0m \u001b[0mcollections\u001b[0m \u001b[0;32mimport\u001b[0m \u001b[0mOrderedDict\u001b[0m\u001b[0;34m\u001b[0m\u001b[0;34m\u001b[0m\u001b[0m\n\u001b[1;32m      8\u001b[0m \u001b[0;34m\u001b[0m\u001b[0m\n",
      "\u001b[0;31mModuleNotFoundError\u001b[0m: No module named 'pandas'"
     ]
    }
   ],
   "source": [
    "import numpy as np\n",
    "import matplotlib\n",
    "import matplotlib.pyplot as plt\n",
    "from IPython.display import display\n",
    "from copy import deepcopy\n",
    "from pandas import DataFrame\n",
    "from collections import OrderedDict\n",
    "\n",
    "from scipy.interpolate import interp1d\n",
    "from scipy.optimize import minimize_scalar, least_squares\n",
    "from scipy.optimize import minimize\n",
    "import datetime\n",
    "\n",
    "matplotlib.rcParams['font.size'] = 16\n",
    "plt.style.use('dark_background')\n",
    "#plt.style.use('default')\n",
    "matplotlib.rcParams['grid.alpha'] = 0.5"
   ]
  },
  {
   "cell_type": "code",
   "execution_count": null,
   "metadata": {},
   "outputs": [],
   "source": [
    "#%%%%%%%%%%%%%%%%%%%% INPUT %%%%%%%%%%%%%%%%%%%%%%%%%%%%%%%%%%%%%%%\n",
    "#%%%%%%%%%%%%%%%%%%%%%%%%%%%%%%%%%%%%%%%%%%%%%%%%%%%%%%%%%%%\n",
    "#% --------------------------------------------------->\n",
    "#% Arm lengths\n",
    "#% --------------------------------------------------->\n",
    "L1=.09;\n",
    "L2=.09;\n",
    "#% --------------------------------------------------->\n",
    "#% focal lens\n",
    "#% --------------------------------------------------->\n",
    "#% The factor 10^8 factor is for no lens case\n",
    "#% If you want to use the lens just remove the factor 10^8\n",
    "f  = .05#*10**8;\n",
    "#% --------------------------------------------------->\n",
    "#% Angles between field at BS (if you put 0.5 you see linear fringes)\n",
    "#% --------------------------------------------------->\n",
    "alpha  = 0*np.pi/180;\n",
    "alphay = 0*np.pi/180;\n",
    "#%%%%%%%%%%%%%%%%%%%%%%%%%%%%%%%%%%%%%%%%%%%%%%%%%%%%%%%%%%%\n",
    "#%%%%%%%%%%%%%%%%%%%%%%%%%%%%%%%%%%%%%%%%%%%%%%%%%%%%%%%%%%%%%%%%%"
   ]
  },
  {
   "cell_type": "code",
   "execution_count": 2,
   "metadata": {},
   "outputs": [
    {
     "ename": "NameError",
     "evalue": "name 'L1' is not defined",
     "output_type": "error",
     "traceback": [
      "\u001b[0;31m---------------------------------------------------------------------------\u001b[0m",
      "\u001b[0;31mNameError\u001b[0m                                 Traceback (most recent call last)",
      "\u001b[0;32m<ipython-input-2-eddc9d0e8400>\u001b[0m in \u001b[0;36m<module>\u001b[0;34m\u001b[0m\n\u001b[1;32m     30\u001b[0m \u001b[0;31m#% --------------------------------------------------->\u001b[0m\u001b[0;34m\u001b[0m\u001b[0;34m\u001b[0m\u001b[0;34m\u001b[0m\u001b[0m\n\u001b[1;32m     31\u001b[0m \u001b[0;31m#% Arms\u001b[0m\u001b[0;34m\u001b[0m\u001b[0;34m\u001b[0m\u001b[0;34m\u001b[0m\u001b[0m\n\u001b[0;32m---> 32\u001b[0;31m \u001b[0mS1\u001b[0m  \u001b[0;34m=\u001b[0m \u001b[0mnp\u001b[0m\u001b[0;34m.\u001b[0m\u001b[0marray\u001b[0m\u001b[0;34m(\u001b[0m\u001b[0;34m[\u001b[0m\u001b[0;34m[\u001b[0m\u001b[0;36m1\u001b[0m\u001b[0;34m,\u001b[0m \u001b[0mL1\u001b[0m\u001b[0;34m]\u001b[0m\u001b[0;34m,\u001b[0m\u001b[0;34m[\u001b[0m\u001b[0;36m0\u001b[0m\u001b[0;34m,\u001b[0m \u001b[0;36m1\u001b[0m\u001b[0;34m]\u001b[0m\u001b[0;34m]\u001b[0m\u001b[0;34m)\u001b[0m\u001b[0;34m;\u001b[0m\u001b[0;34m\u001b[0m\u001b[0;34m\u001b[0m\u001b[0m\n\u001b[0m\u001b[1;32m     33\u001b[0m \u001b[0mS2\u001b[0m  \u001b[0;34m=\u001b[0m \u001b[0mnp\u001b[0m\u001b[0;34m.\u001b[0m\u001b[0marray\u001b[0m\u001b[0;34m(\u001b[0m\u001b[0;34m[\u001b[0m\u001b[0;34m[\u001b[0m\u001b[0;36m1\u001b[0m\u001b[0;34m,\u001b[0m \u001b[0mL2\u001b[0m\u001b[0;34m]\u001b[0m\u001b[0;34m,\u001b[0m\u001b[0;34m[\u001b[0m\u001b[0;36m0\u001b[0m\u001b[0;34m,\u001b[0m \u001b[0;36m1\u001b[0m\u001b[0;34m]\u001b[0m\u001b[0;34m]\u001b[0m\u001b[0;34m)\u001b[0m\u001b[0;34m;\u001b[0m\u001b[0;34m\u001b[0m\u001b[0;34m\u001b[0m\u001b[0m\n\u001b[1;32m     34\u001b[0m \u001b[0;31m#% Distance to lens\u001b[0m\u001b[0;34m\u001b[0m\u001b[0;34m\u001b[0m\u001b[0;34m\u001b[0m\u001b[0m\n",
      "\u001b[0;31mNameError\u001b[0m: name 'L1' is not defined"
     ]
    }
   ],
   "source": [
    "\n",
    "x = np.linspace(-8e-3, 8e-3, 1000)\n",
    "y = np.linspace(-8e-3, 8e-3, 1000)\n",
    "xx, yy = np.meshgrid(x, y, sparse=True)\n",
    "\n",
    "#% --------------------------------------------------->\n",
    "#% Definitions\n",
    "#% --------------------------------------------------->\n",
    "lam = 1.064e-6;  # wavelength [m]\n",
    "k = 2*np.pi/lam;\n",
    "n = 1;\n",
    "#% --------------------------------------------------->\n",
    "#% Initial Beam\n",
    "#% --------------------------------------------------->\n",
    "w0 = .5e-3;\n",
    "z0 = -5;\n",
    "#% --------------------------------------------------->\n",
    "#% Mirror Rc (almost flat)\n",
    "#% --------------------------------------------------->\n",
    "Rc1 = 10;\n",
    "Rc2 = 10;\n",
    "\n",
    "qin = z0 + 1j*np.pi*w0**2/lam\n",
    "\n",
    "\n",
    "#qin0 = [1; 1/qin];\n",
    "qin0 = np.array([[1],[1/qin]])\n",
    "R = 1/np.real(1/qin);\n",
    "#% --------------------------------------------------->\n",
    "#% Matrices definitions\n",
    "#% --------------------------------------------------->\n",
    "#% Arms\n",
    "S1  = np.array([[1, L1],[0, 1]]);\n",
    "S2  = np.array([[1, L2],[0, 1]]);\n",
    "#% Distance to lens\n",
    "Sf  = np.array([[1, 0.05], [0, 1]]);\n",
    "#% Mirrors\n",
    "M1 = np.array([[1, 0], [-2/Rc1, 1]]);\n",
    "M2 = np.array([[1, 0], [-2/Rc2, 1]]);\n",
    "Mf = np.array([[1, 0], [-1/f, 1]]);\n",
    "#% --------------------------------------------------->\n",
    "#% Beam propagation\n",
    "#% --------------------------------------------------->\n",
    "M1_qout = S1 @ M1 @ S1 @ Mf @ Sf @ np.array([[1], [1/qin]]);\n",
    "M2_qout = S2 @ M2 @ S2 @ Mf @ Sf @ np.array([[1], [1/qin]]);\n",
    "#% New q complex factor\n",
    "qout1 = M1_qout[0]/M1_qout[1];\n",
    "qout2 = M2_qout[0]/M2_qout[1];\n",
    "\n",
    "#% --------------------------------------------------->\n",
    "#% Beam parameters at BS\n",
    "#% --------------------------------------------------->\n",
    "w1 = np.sqrt(-lam/np.pi*(1/np.imag(1/qout1)))\n",
    "R1 = 1/np.real(1/qout1);\n",
    "w2 = np.sqrt(-lam/np.pi*(1/np.imag(1/qout2)))\n",
    "R2 = 1/np.real(1/qout2);\n",
    "#% --------------------------------------------------->\n",
    "\n",
    "z=0;\n",
    "z2 = 0.5*lam/2;\n",
    "X=xx\n",
    "Y=yy\n",
    "\n",
    "#% --------------------------------------------------->\n",
    "#% Fields\n",
    "#% --------------------------------------------------->\n",
    "E1x = (1/2)**(1/2)*np.exp(-(X**2)/w1**2*1)*np.exp(-1j*2*(k*z)/2) * np.exp(-1j*k*(X**2/2/R1))* np.exp(-1j*2*k*alpha*X); #% kz/2 propagator\n",
    "E1y = (1/2)**(1/2)*np.exp(-(Y**2)/(w1)**2*1)*np.exp(-1j*2*(k*z)/2) * np.exp(-1j*k*(Y**2/2/R1))* np.exp(-1j*2*k*alphay*Y); #% kz/2 propagator\n",
    "\n",
    "E2x = (1/2)**(1/2)*np.exp(-(X**2)/w2**2*1)*np.exp(-1j*2*(k*z2)/2) * np.exp(-1j*k*(X**2/2/R2)); #% kz/2 propagator\n",
    "E2y = (1/2)**(1/2)*np.exp(-(Y**2)/w2**2*1)*np.exp(-1j*2*(k*z2)/2) * np.exp(-1j*k*(Y**2/2/R2)) #% kz/2 propagator\n",
    "\n",
    "Eout = (E1x*E1y) + (E2x*E2y);\n",
    "Pxy  = Eout*np.conjugate(Eout);\n",
    "\n",
    "\n",
    "fig = plt.figure(figsize=(10, 10), dpi=80)\n",
    "#matplotlib.rcParams['font.size'] = 16\n",
    "\n",
    "#plt.subplots(2,1, figsize=(8,8))\n",
    "\n",
    "ax3 = plt.subplot()\n",
    "#choose the colormap\n",
    "cmap=plt.get_cmap('gray')\n",
    "h = plt.pcolormesh(x,y,np.real(Pxy),cmap=cmap)\n",
    "\n",
    "plt.title('Screen')\n",
    "plt.xlabel('X axis [m]')\n",
    "plt.ylabel('Y axis  [m]')\n",
    "#ax1 = plt.subplot(222)\n",
    "#plt.plot(x, np.abs(Zxy[500,:]))\n",
    "#ax2 = plt.subplot(224)\n",
    "#plt.plot(y, np.abs(Zxy[:,500]),color='r')\n",
    "#plt.show()\n",
    "#    return Zxy,w1,w2,R1,R2"
   ]
  },
  {
   "cell_type": "code",
   "execution_count": null,
   "metadata": {},
   "outputs": [],
   "source": []
  },
  {
   "cell_type": "code",
   "execution_count": 3,
   "metadata": {},
   "outputs": [
    {
     "ename": "NameError",
     "evalue": "name 'Pxy' is not defined",
     "output_type": "error",
     "traceback": [
      "\u001b[0;31m---------------------------------------------------------------------------\u001b[0m",
      "\u001b[0;31mNameError\u001b[0m                                 Traceback (most recent call last)",
      "\u001b[0;32m<ipython-input-3-85aca371a4af>\u001b[0m in \u001b[0;36m<module>\u001b[0;34m\u001b[0m\n\u001b[0;32m----> 1\u001b[0;31m \u001b[0mPxy\u001b[0m\u001b[0;34m\u001b[0m\u001b[0;34m\u001b[0m\u001b[0m\n\u001b[0m",
      "\u001b[0;31mNameError\u001b[0m: name 'Pxy' is not defined"
     ]
    }
   ],
   "source": [
    "Pxy"
   ]
  },
  {
   "cell_type": "code",
   "execution_count": null,
   "metadata": {},
   "outputs": [],
   "source": []
  }
 ],
 "metadata": {
  "kernelspec": {
   "display_name": "Python 3",
   "language": "python",
   "name": "python3"
  },
  "language_info": {
   "codemirror_mode": {
    "name": "ipython",
    "version": 3
   },
   "file_extension": ".py",
   "mimetype": "text/x-python",
   "name": "python",
   "nbconvert_exporter": "python",
   "pygments_lexer": "ipython3",
   "version": "3.8.1"
  }
 },
 "nbformat": 4,
 "nbformat_minor": 4
}
